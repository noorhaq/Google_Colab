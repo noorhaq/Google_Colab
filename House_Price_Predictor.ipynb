{
  "nbformat": 4,
  "nbformat_minor": 0,
  "metadata": {
    "colab": {
      "name": "House_Price_Predictor.ipynb",
      "provenance": [],
      "authorship_tag": "ABX9TyNn0SmJ3kYg8q66taMNgWGP",
      "include_colab_link": true
    },
    "kernelspec": {
      "name": "python3",
      "display_name": "Python 3"
    }
  },
  "cells": [
    {
      "cell_type": "markdown",
      "metadata": {
        "id": "view-in-github",
        "colab_type": "text"
      },
      "source": [
        "<a href=\"https://colab.research.google.com/github/noorhaq/Google_Colab/blob/master/House_Price_Predictor.ipynb\" target=\"_parent\"><img src=\"https://colab.research.google.com/assets/colab-badge.svg\" alt=\"Open In Colab\"/></a>"
      ]
    },
    {
      "cell_type": "code",
      "metadata": {
        "id": "YgkeQRkv9hV4",
        "colab_type": "code",
        "colab": {}
      },
      "source": [
        "import tensorflow as tf\n",
        "import numpy as np\n",
        "from tensorflow import keras\n",
        "model = tf.keras.Sequential([keras.layers.Dense(units = 1, input_shape = [1])])\n",
        "model.compile(optimizer='sgd', loss ='mean_squared_error')\n",
        "xs = np.array([1.0, 2.0, 3.0, 4.0, 5.0, 6.0], dtype=float)\n",
        "ys = np.array([100, 150, 200, 250, 300, 350], dtype=float)\n",
        "model.fit(xs, ys, epochs=100)\n",
        "print(model.predict([7.0]))"
      ],
      "execution_count": null,
      "outputs": []
    }
  ]
}